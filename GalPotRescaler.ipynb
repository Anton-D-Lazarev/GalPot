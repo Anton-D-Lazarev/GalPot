{
 "cells": [
  {
   "cell_type": "code",
   "execution_count": null,
   "metadata": {},
   "outputs": [],
   "source": [
    "# Some helpful imports\n",
    "import numpy as np"
   ]
  },
  {
   "cell_type": "markdown",
   "metadata": {},
   "source": [
    "# File used to create rescaled versions of the McMillan (2017) potential"
   ]
  },
  {
   "cell_type": "markdown",
   "metadata": {},
   "source": [
    "This file was produced to rescale the McMillan (2017) potential for use in the paper \"Gaia Data Release 3. Chemical cartography of the Milky Way\"\n",
    "\n",
    "We chose to rescale this to have values of R0 and v0 consistent with latest estimates from study of Sgr A* (see paper for details)\n",
    "\n",
    "This exists as an example for anyone wishing to do something similar in future.\n",
    "\n",
    "CAVEAT EMPTOR: I did this rather 'by hand' so I did not read in the parameters from file, but rather copied them over manually. This approach is prone to errors. It would be simple to reuse the below to rescale the McMillan (2017) potential (just change new_R0 and new_v0), but for any other potential will require careful checking that you understand exactly what needs to be done."
   ]
  },
  {
   "cell_type": "code",
   "execution_count": null,
   "metadata": {},
   "outputs": [],
   "source": [
    "# New values that we wish to have\n",
    "new_R0 = 8.249\n",
    "new_v0 = (250.7-12.2)\n",
    "\n",
    "# Values for the McMillan (2017) potential (taken from paper)\n",
    "R0PJM17_best,v0PJM17_best = 8.21,233.1\n",
    "\n",
    "# rescaling constants\n",
    "distscale = new_R0/R0PJM17_best\n",
    "velscale = new_v0/v0PJM17_best"
   ]
  },
  {
   "cell_type": "code",
   "execution_count": null,
   "metadata": {},
   "outputs": [],
   "source": [
    "%cat pot/PJM17_best.Tpot"
   ]
  },
  {
   "cell_type": "code",
   "execution_count": null,
   "metadata": {},
   "outputs": [],
   "source": [
    "# read from whereever your Agama directory is\n",
    "%cat ../Agama/data/McMillan17.ini"
   ]
  },
  {
   "cell_type": "markdown",
   "metadata": {},
   "source": [
    "## Scale factors for Surface density and density (note that these are the only mass scalings needed))"
   ]
  },
  {
   "cell_type": "code",
   "execution_count": null,
   "metadata": {},
   "outputs": [],
   "source": [
    "sdensScale = velscale**2/distscale\n",
    "densScale = velscale**2/distscale**2"
   ]
  },
  {
   "cell_type": "markdown",
   "metadata": {},
   "source": [
    "## For a GalPot potential"
   ]
  },
  {
   "cell_type": "code",
   "execution_count": null,
   "metadata": {},
   "outputs": [],
   "source": [
    "print ('4')\n",
    "print (('%e %f %f ' % (8.95679e+08*sdensScale,2.49955*distscale,0.3*distscale) ) + '0 0')\n",
    "print (('%e %f %f ' % (1.83444e+08*sdensScale,3.02134*distscale,0.9*distscale) ) + '0 0')\n",
    "print (('%e %f %f %f ' % (5.31319e+07*sdensScale,7*distscale,  -0.085*distscale,4*distscale) ) + '0')\n",
    "print (('%e %f %f %f ' % (2.17995e+09*sdensScale,1.5*distscale,-0.045*distscale,12*distscale) ) + '0')\n",
    "print ('2')\n",
    "print (('%e ' % (9.8351e+10*densScale))  + '0.5 0 1.8 ' + ('%f %f' % (0.075*distscale,2.1*distscale) ) )\n",
    "print (('%e ' % (8.53702e+06*densScale)) + '1 1 3 '+ ('%f %f' % (19.5725*distscale,0)))"
   ]
  },
  {
   "cell_type": "markdown",
   "metadata": {},
   "source": [
    "## Which I then copied and pasted into the file \"pot/variants/PJM16_Rescale2021.Tpot\"\n",
    "\n",
    "Again, this is not ideal, and if you're doing this more than once it is strongly not recommended as an approach to avoid errors."
   ]
  },
  {
   "cell_type": "markdown",
   "metadata": {},
   "source": [
    "## Do the same for an AGAMA potential"
   ]
  },
  {
   "cell_type": "code",
   "execution_count": null,
   "metadata": {},
   "outputs": [],
   "source": [
    "#best-fit potential from McMillan(2017)\n",
    "#Units: 1 Msun, 1 Kpc, 1 km/s\n",
    "\n",
    "print('[Potential thin disk]')\n",
    "print('type = Disk')\n",
    "print('surfaceDensity = %e' % (8.95679e+08*sdensScale))\n",
    "print('scaleRadius = %f' % (2.49955*distscale) )\n",
    "print('scaleHeight = %f' % (0.3*distscale) )\n",
    "print('')\n",
    "print('[Potential thick disk]')\n",
    "print('type = Disk')\n",
    "print('surfaceDensity = %e' % (1.83444e+08*sdensScale))\n",
    "print('scaleRadius = %f' % (3.02134*distscale) )\n",
    "print('scaleHeight = %f' % (0.9*distscale) )\n",
    "print('')\n",
    "print('[Potential HI gas disk]')\n",
    "print('type = Disk')\n",
    "print('surfaceDensity = %e' % (5.31319e+07*sdensScale))\n",
    "print('scaleRadius = %f' % (7*distscale) )\n",
    "print('scaleHeight = %f' % (-0.085*distscale) )\n",
    "print('innerCutoffRadius = %f' % (4*distscale) )\n",
    "print('')\n",
    "print('[Potential molecular gas disk]')\n",
    "print('type = Disk')\n",
    "print('surfaceDensity = %e' % (2.17995e+09*sdensScale))\n",
    "print('scaleRadius = %f' % (1.5*distscale) )\n",
    "print('scaleHeight = %f' % (-0.045*distscale) )\n",
    "print('innerCutoffRadius = %f' % (12*distscale) )\n",
    "print('')\n",
    "print('[Potential bulge]')\n",
    "print('type = Spheroid')\n",
    "print('densityNorm = %e' % (9.8351e+10*densScale))\n",
    "print('axisRatioZ = 0.5')\n",
    "print('gamma = 0')\n",
    "print('beta = 1.8')\n",
    "print('scaleRadius = %f' % (0.075*distscale) )\n",
    "print('outerCutoffRadius = %f' % (2.1*distscale) )\n",
    "print('')\n",
    "print('[Potential halo]')\n",
    "print('type = Spheroid')\n",
    "print('densityNorm = %e' % (8.53702e+06*densScale))\n",
    "print('axisRatioZ = 1')\n",
    "print('gamma = 1')\n",
    "print('beta = 3')\n",
    "print('scaleRadius = %f' % (19.5725*distscale) )\n"
   ]
  }
 ],
 "metadata": {
  "kernelspec": {
   "display_name": "Python 3",
   "language": "python",
   "name": "python3"
  },
  "language_info": {
   "codemirror_mode": {
    "name": "ipython",
    "version": 3
   },
   "file_extension": ".py",
   "mimetype": "text/x-python",
   "name": "python",
   "nbconvert_exporter": "python",
   "pygments_lexer": "ipython3",
   "version": "3.8.8"
  }
 },
 "nbformat": 4,
 "nbformat_minor": 4
}
