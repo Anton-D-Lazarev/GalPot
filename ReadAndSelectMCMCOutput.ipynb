{
 "cells": [
  {
   "cell_type": "code",
   "execution_count": 26,
   "id": "dbeae1af-4f39-407a-97ab-3575c7a6cd37",
   "metadata": {},
   "outputs": [],
   "source": [
    "import pandas as pd\n",
    "import numpy as np\n",
    "import matplotlib.pyplot as plt\n",
    "import GalPot\n",
    "import os"
   ]
  },
  {
   "cell_type": "code",
   "execution_count": 27,
   "id": "a8e7d0d4-2436-4050-bc20-5a6d47814ac8",
   "metadata": {},
   "outputs": [],
   "source": [
    "df = pd.read_csv('McMillan2017MilkyWayMCMCOutput.csv')"
   ]
  },
  {
   "cell_type": "markdown",
   "id": "ef0de906-befb-4b32-881d-9e5f342a2749",
   "metadata": {},
   "source": [
    "# Choose a model randomly from the chain (weighted by N\\_chain) \n",
    "\n",
    "### the value of _model_ here is a line number, and is used below"
   ]
  },
  {
   "cell_type": "code",
   "execution_count": 28,
   "id": "3d8f49a7-7491-4e7f-86c0-4ba3dcfdc769",
   "metadata": {},
   "outputs": [],
   "source": [
    "rng = np.random.default_rng()\n",
    "model = rng.choice(len(df),p=df['N_chain']/np.sum(df['N_chain']))"
   ]
  },
  {
   "cell_type": "markdown",
   "id": "b4eeb893-1a42-4abe-8d15-613f5daf3f5c",
   "metadata": {},
   "source": [
    "# Write to temporary file, and read from file"
   ]
  },
  {
   "cell_type": "code",
   "execution_count": 31,
   "id": "b9bf4935-d921-422d-a6aa-c20b7cf77eae",
   "metadata": {},
   "outputs": [],
   "source": [
    "tmpname = 'tmpMW.pot'\n",
    "nd,ns=4,2  # Number of discs, Number of spheroids\n",
    "\n",
    "# Write to file so GalPot understands\n",
    "with open(tmpname,'w') as f:\n",
    "    # Number of discs\n",
    "    f.write(f'{nd}\\n')\n",
    "    # Parameters of the discs\n",
    "    for i in range(nd):\n",
    "        for j in range(5):\n",
    "            f.write(str(df.iloc[model][f'DiskPar{i}{j}']))\n",
    "            # N.B. Here we use the value 'model' found above \n",
    "            if(j!=4): f.write(' ')\n",
    "        f.write('\\n')\n",
    "    # Number of spheroids\n",
    "    f.write(f'{ns}\\n')\n",
    "    # Parameters of spheroids\n",
    "    for i in range(ns):\n",
    "        for j in range(6):\n",
    "            f.write(str(df.iloc[model][f'SphrPar{i}{j}']))\n",
    "            # N.B. Here we use the value 'model' found above\n",
    "            if(j!=5): f.write(' ')\n",
    "        f.write('\\n')\n",
    "f.close()\n",
    "\n",
    "Phi = GalPot.GalaxyPotential(tmpname)\n",
    "\n",
    "remove file - remove this code if you don't want to!\n",
    "if os.path.exists(tmpname):\n",
    "    os.remove(tmpname)\n",
    "else:\n",
    "    print(\"The file does not exist for some reason\")"
   ]
  },
  {
   "cell_type": "code",
   "execution_count": 30,
   "id": "123ce1c3-82ec-4c30-a1b3-ddb5a6f83dee",
   "metadata": {},
   "outputs": [
    {
     "data": {
      "image/png": "[encoded data removed]",
      "text/plain": [
       "<Figure size 432x288 with 1 Axes>"
      ]
     },
     "metadata": {
      "needs_background": "light"
     },
     "output_type": "display_data"
    }
   ],
   "source": [
    "R = np.linspace(1,30)\n",
    "vc = Phi.Vcirc(R)\n",
    "plt.plot(R,vc*Phi.kpc_Myr_to_km_s)\n",
    "plt.show()"
   ]
  },
  {
   "cell_type": "code",
   "execution_count": null,
   "id": "e268cec5-4aa3-409b-b66f-136cd39f9156",
   "metadata": {},
   "outputs": [],
   "source": []
  },
  {
   "cell_type": "markdown",
   "id": "4d5a4360-628b-4b62-8916-4a094c231da3",
   "metadata": {},
   "source": [
    "# Additional option - write to AGAMA format (TBD)"
   ]
  },
  {
   "cell_type": "code",
   "execution_count": null,
   "id": "eb82c5a0-e98c-4b91-a52b-5a317e9399f8",
   "metadata": {},
   "outputs": [],
   "source": []
  }
 ],
 "metadata": {
  "kernelspec": {
   "display_name": "Python 3",
   "language": "python",
   "name": "python3"
  },
  "language_info": {
   "codemirror_mode": {
    "name": "ipython",
    "version": 3
   },
   "file_extension": ".py",
   "mimetype": "text/x-python",
   "name": "python",
   "nbconvert_exporter": "python",
   "pygments_lexer": "ipython3",
   "version": "3.8.8"
  }
 },
 "nbformat": 4,
 "nbformat_minor": 5
}
